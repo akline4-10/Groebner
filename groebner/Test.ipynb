{
 "cells": [
  {
   "cell_type": "code",
   "execution_count": 1,
   "metadata": {
    "collapsed": false
   },
   "outputs": [],
   "source": [
    "import groebner, multi_power, multi_cheb\n",
    "from multi_cheb import MultiCheb\n",
    "from maxheap import Term\n",
    "import numpy as np\n",
    "from scipy.linalg import lu\n",
    "\n",
    "\n",
    "%load_ext autoreload\n",
    "%autoreload 2"
   ]
  },
  {
   "cell_type": "code",
   "execution_count": 2,
   "metadata": {
    "collapsed": false
   },
   "outputs": [],
   "source": [
    "A = MultiCheb(np.array([[1,1],[2,3]]))\n",
    "B = MultiCheb(np.array([[1,1],[3,4]]))\n",
    "C = MultiCheb(np.array([[5,2],[2,4]]))\n",
    "#D = multi_cheb.MultiCheb(np.array([[1,1,1],[2,2,2],[3,3,3]]))"
   ]
  },
  {
   "cell_type": "code",
   "execution_count": 3,
   "metadata": {
    "collapsed": false
   },
   "outputs": [
    {
     "name": "stdout",
     "output_type": "stream",
     "text": [
      "[[ 4.  2.  2.  5.]\n",
      " [ 4.  3.  1.  1.]\n",
      " [ 3.  2.  1.  1.]]\n",
      "   [0 0]  [0 1]  [0 2]  [1 0]  [1 1]  [1 2]  [2 0]  [2 1]  [2 2]\n",
      "0    1.0    1.0    0.0    2.0    3.0    0.0    0.0    0.0    0.0\n",
      "0    1.0    1.0    0.0    3.0    4.0    0.0    0.0    0.0    0.0\n",
      "0    5.0    2.0    0.0    2.0    4.0    0.0    0.0    0.0    0.0\n",
      "0    0.0    0.0    0.0    0.0    0.0    0.0    0.0    0.0    0.0\n",
      "0    0.0    0.0    0.0    0.0    0.0    0.0    0.0    0.0    0.0\n",
      "0    0.0    0.0    0.0    0.0    0.0    0.0    0.0    0.0    0.0\n"
     ]
    },
    {
     "data": {
      "text/plain": [
       "array([[ 0.,  0.,  0.],\n",
       "       [ 0.,  0.,  0.],\n",
       "       [ 0.,  0.,  0.]])"
      ]
     },
     "execution_count": 3,
     "metadata": {},
     "output_type": "execute_result"
    }
   ],
   "source": [
    "grob = groebner.Groebner([A,B,C])\n",
    "grob.add_s_to_matrix()\n",
    "print(grob.matrix)\n",
    "grob.calc_s(A,B).coeff"
   ]
  },
  {
   "cell_type": "code",
   "execution_count": 4,
   "metadata": {
    "collapsed": false,
    "scrolled": true
   },
   "outputs": [
    {
     "name": "stdout",
     "output_type": "stream",
     "text": [
      "[(1, 1), (1, 0), (0, 1), (0, 0)]\n",
      "[[ 4.  2.  2.  5.]\n",
      " [ 4.  3.  1.  1.]\n",
      " [ 3.  2.  1.  1.]]\n"
     ]
    }
   ],
   "source": [
    "print([i.val for i in grob.matrix_terms])\n",
    "print(grob.np_matrix)"
   ]
  },
  {
   "cell_type": "code",
   "execution_count": 5,
   "metadata": {
    "collapsed": false
   },
   "outputs": [
    {
     "name": "stdout",
     "output_type": "stream",
     "text": [
      "   [0 0]  [0 1]  [0 2]  [1 0]  [1 1]  [1 2]  [2 0]  [2 1]  [2 2]\n",
      "0    1.0    1.0    0.0    2.0    3.0    0.0    0.0    0.0    0.0\n",
      "0    1.0    1.0    0.0    3.0    4.0    0.0    0.0    0.0    0.0\n",
      "0    5.0    2.0    0.0    2.0    4.0    0.0    0.0    0.0    0.0\n",
      "0    0.0    0.0    0.0    0.0    0.0    0.0    0.0    0.0    0.0\n",
      "0    0.0    0.0    0.0    0.0    0.0    0.0    0.0    0.0    0.0\n",
      "0    0.0    0.0    0.0    0.0    0.0    0.0    0.0    0.0    0.0\n",
      "0    0.5    1.0    0.5    1.5    2.0    1.5    0.0    0.0    0.0\n",
      "0    1.0    1.5    0.0    1.0    1.0    0.0    1.0    1.5    0.0\n",
      "0    1.5    1.0    0.0    0.5    1.0    0.5    0.0    1.0    1.5\n",
      "0    1.0    1.0    0.0    2.0    3.0    0.0    0.0    0.0    0.0\n",
      "[[ 0.    0.    0.    0.    0.    0.    0.    0.    0.  ]\n",
      " [ 0.    0.    0.    0.    4.    0.    3.    1.    1.  ]\n",
      " [ 0.    0.    0.    0.    0.    0.    0.    0.    0.  ]\n",
      " [ 0.    0.    0.    0.    0.    0.   -1.    1.    4.  ]\n",
      " [ 0.    0.    0.    0.    0.    0.    0.    0.   -0.75]\n",
      " [ 0.    0.    0.    0.    0.    0.    0.    0.   -0.75]]\n"
     ]
    }
   ],
   "source": [
    "grob.add_r_to_matrix()\n",
    "grob.matrix = grob.matrix.loc[:, (grob.matrix != 0).any(axis=0)]\n",
    "print(grob.matrix)\n",
    "\n",
    "# Reorder correctly\n",
    "ord_mat = grob.matrix[['[2 2]', '[2 1]', '[1 2]', '[2 0]', '[1 1]', '[0 2]','[1 0]', '[0 1]', '[0 0]']]\n",
    "grob_mat = ord_mat.values\n",
    "\n",
    "new_mat_index = ord_mat.columns.values\n",
    "\n",
    "new_mat = np.vstack((grob_mat[3:], grob_mat[:3])) # Put R on top for reduction\n",
    "\n",
    "P,L,U = lu(new_mat)\n",
    "P_argmax = np.argmax(P,axis=0)\n",
    "\n",
    "print(U[-6:])"
   ]
  },
  {
   "cell_type": "code",
   "execution_count": 6,
   "metadata": {
    "collapsed": false
   },
   "outputs": [
    {
     "data": {
      "text/plain": [
       "True"
      ]
     },
     "execution_count": 6,
     "metadata": {},
     "output_type": "execute_result"
    }
   ],
   "source": [
    "import numpy as np\n",
    "T = np.random.rand( 4, 3, 5, 2 )\n",
    "np.allclose( T.flatten( )[ ::-1 ].reshape( T.shape ) , T[ ::-1, ::-1, ::-1, ::-1 ] )"
   ]
  },
  {
   "cell_type": "code",
   "execution_count": 7,
   "metadata": {
    "collapsed": false
   },
   "outputs": [],
   "source": [
    "f = MultiCheb(np.array([[1,2],[3,4]]))\n",
    "g = MultiCheb(np.array([[0,0],[1,0]]))"
   ]
  },
  {
   "cell_type": "code",
   "execution_count": 8,
   "metadata": {
    "collapsed": false
   },
   "outputs": [
    {
     "name": "stdout",
     "output_type": "stream",
     "text": [
      "[[1 2]\n",
      " [3 4]]\n",
      "[[0 0]\n",
      " [1 0]]\n"
     ]
    }
   ],
   "source": [
    "print(f.coeff)\n",
    "print(g.coeff)"
   ]
  },
  {
   "cell_type": "code",
   "execution_count": 9,
   "metadata": {
    "collapsed": false
   },
   "outputs": [],
   "source": [
    "c = f.coeff[::-1,::-1]"
   ]
  },
  {
   "cell_type": "code",
   "execution_count": 10,
   "metadata": {
    "collapsed": true
   },
   "outputs": [],
   "source": [
    "from scipy.signal import fftconvolve, convolve"
   ]
  },
  {
   "cell_type": "code",
   "execution_count": 11,
   "metadata": {
    "collapsed": false
   },
   "outputs": [
    {
     "data": {
      "text/plain": [
       "array([[0, 0, 0],\n",
       "       [1, 2, 0],\n",
       "       [3, 4, 0]])"
      ]
     },
     "execution_count": 11,
     "metadata": {},
     "output_type": "execute_result"
    }
   ],
   "source": [
    "p1 = convolve(f.coeff, g.coeff)\n",
    "p1"
   ]
  },
  {
   "cell_type": "code",
   "execution_count": null,
   "metadata": {
    "collapsed": true
   },
   "outputs": [],
   "source": []
  }
 ],
 "metadata": {
  "anaconda-cloud": {},
  "kernelspec": {
   "display_name": "Python [Root]",
   "language": "python",
   "name": "Python [Root]"
  },
  "language_info": {
   "codemirror_mode": {
    "name": "ipython",
    "version": 3
   },
   "file_extension": ".py",
   "mimetype": "text/x-python",
   "name": "python",
   "nbconvert_exporter": "python",
   "pygments_lexer": "ipython3",
   "version": "3.5.2"
  }
 },
 "nbformat": 4,
 "nbformat_minor": 2
}
