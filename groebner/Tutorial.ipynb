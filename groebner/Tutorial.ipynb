{
 "cells": [
  {
   "cell_type": "markdown",
   "metadata": {},
   "source": [
    "### Groebner Basis Calculation Tutorial"
   ]
  },
  {
   "cell_type": "code",
   "execution_count": 1,
   "metadata": {
    "collapsed": false
   },
   "outputs": [],
   "source": [
    "#Conda imports\n",
    "import numpy as np\n",
    "import pandas as pd\n",
    "from scipy.linalg import lu\n",
    "\n",
    "#Local imports\n",
    "from multi_cheb import MultiCheb\n",
    "from multi_power import MultiPower\n",
    "import maxheap\n",
    "from groebner_class import Groebner\n",
    "\n",
    "# Auto-reload packages\n",
    "%load_ext autoreload\n",
    "%autoreload 2\n"
   ]
  },
  {
   "cell_type": "code",
   "execution_count": 2,
   "metadata": {
    "collapsed": false
   },
   "outputs": [],
   "source": [
    "A = MultiCheb(np.array([[1,1],[2,3]]))\n",
    "B = MultiCheb(np.array([[1,1],[3,4]]))\n",
    "C = MultiCheb(np.array([[5,2],[2,4]]))\n",
    "D = MultiCheb(np.array([[1,1,1],[2,2,2],[3,3,3]]))\n",
    "\n",
    "grob = Groebner([A,B,C,D])\n"
   ]
  },
  {
   "cell_type": "code",
   "execution_count": 3,
   "metadata": {
    "collapsed": false
   },
   "outputs": [
    {
     "name": "stdout",
     "output_type": "stream",
     "text": [
      "(4, 9)\n",
      "9\n",
      "(16, 25)\n",
      "25\n",
      "(72, 25)\n",
      "81\n",
      "[10, 14, 15, 18, 19, 21, 22, 23, 24]\n"
     ]
    },
    {
     "ename": "IndexError",
     "evalue": "index 25 is out of bounds for axis 0 with size 25",
     "output_type": "error",
     "traceback": [
      "\u001b[0;31m---------------------------------------------------------------------------\u001b[0m",
      "\u001b[0;31mIndexError\u001b[0m                                Traceback (most recent call last)",
      "\u001b[0;32m<ipython-input-3-0a7596b5bab6>\u001b[0m in \u001b[0;36m<module>\u001b[0;34m()\u001b[0m\n\u001b[1;32m     11\u001b[0m \u001b[0mprint\u001b[0m\u001b[0;34m(\u001b[0m\u001b[0mlen\u001b[0m\u001b[0;34m(\u001b[0m\u001b[0mgrob\u001b[0m\u001b[0;34m.\u001b[0m\u001b[0mmatrix_terms\u001b[0m\u001b[0;34m)\u001b[0m\u001b[0;34m)\u001b[0m\u001b[0;34m\u001b[0m\u001b[0m\n\u001b[1;32m     12\u001b[0m \u001b[0;34m\u001b[0m\u001b[0m\n\u001b[0;32m---> 13\u001b[0;31m \u001b[0mgrob\u001b[0m\u001b[0;34m.\u001b[0m\u001b[0mreduce_matrix\u001b[0m\u001b[0;34m(\u001b[0m\u001b[0;34m)\u001b[0m\u001b[0;34m\u001b[0m\u001b[0m\n\u001b[0m\u001b[1;32m     14\u001b[0m \u001b[0;34m\u001b[0m\u001b[0m\n\u001b[1;32m     15\u001b[0m \u001b[0;31m#### The problem is that the polynomials are not getting added right.\u001b[0m\u001b[0;34m\u001b[0m\u001b[0;34m\u001b[0m\u001b[0m\n",
      "\u001b[0;32m/Users/rex/Work/GroebnerSolver/groebner/groebner_class.py\u001b[0m in \u001b[0;36mreduce_matrix\u001b[0;34m(self, qr_decomposition)\u001b[0m\n\u001b[1;32m    323\u001b[0m             \u001b[0;32mreturn\u001b[0m \u001b[0;32mFalse\u001b[0m\u001b[0;34m\u001b[0m\u001b[0m\n\u001b[1;32m    324\u001b[0m         \u001b[0;32melse\u001b[0m\u001b[0;34m:\u001b[0m\u001b[0;34m\u001b[0m\u001b[0m\n\u001b[0;32m--> 325\u001b[0;31m             \u001b[0mself\u001b[0m\u001b[0;34m.\u001b[0m\u001b[0mnew_polys\u001b[0m \u001b[0;34m=\u001b[0m \u001b[0mself\u001b[0m\u001b[0;34m.\u001b[0m\u001b[0msm_to_poly\u001b[0m\u001b[0;34m(\u001b[0m\u001b[0mgood_poly_spots\u001b[0m\u001b[0;34m)\u001b[0m\u001b[0;34m\u001b[0m\u001b[0m\n\u001b[0m\u001b[1;32m    326\u001b[0m             \u001b[0;32mreturn\u001b[0m \u001b[0;32mTrue\u001b[0m\u001b[0;34m\u001b[0m\u001b[0m\n\u001b[1;32m    327\u001b[0m \u001b[0;34m\u001b[0m\u001b[0m\n",
      "\u001b[0;32m/Users/rex/Work/GroebnerSolver/groebner/groebner_class.py\u001b[0m in \u001b[0;36msm_to_poly\u001b[0;34m(self, idxs)\u001b[0m\n\u001b[1;32m     70\u001b[0m             \u001b[0;32mfor\u001b[0m \u001b[0mj\u001b[0m\u001b[0;34m,\u001b[0m\u001b[0mterm\u001b[0m \u001b[0;32min\u001b[0m \u001b[0menumerate\u001b[0m\u001b[0;34m(\u001b[0m\u001b[0mmatrix_term_vals\u001b[0m\u001b[0;34m)\u001b[0m\u001b[0;34m:\u001b[0m\u001b[0;34m\u001b[0m\u001b[0m\n\u001b[1;32m     71\u001b[0m                 \u001b[0;31m#print(term)\u001b[0m\u001b[0;34m\u001b[0m\u001b[0;34m\u001b[0m\u001b[0m\n\u001b[0;32m---> 72\u001b[0;31m                 \u001b[0mcoeff\u001b[0m\u001b[0;34m[\u001b[0m\u001b[0mterm\u001b[0m\u001b[0;34m]\u001b[0m \u001b[0;34m=\u001b[0m \u001b[0mp\u001b[0m\u001b[0;34m[\u001b[0m\u001b[0mj\u001b[0m\u001b[0;34m]\u001b[0m\u001b[0;34m\u001b[0m\u001b[0m\n\u001b[0m\u001b[1;32m     73\u001b[0m             \u001b[0;32mif\u001b[0m \u001b[0mself\u001b[0m\u001b[0;34m.\u001b[0m\u001b[0mpower\u001b[0m\u001b[0;34m:\u001b[0m\u001b[0;34m\u001b[0m\u001b[0m\n\u001b[1;32m     74\u001b[0m                 \u001b[0mpoly\u001b[0m \u001b[0;34m=\u001b[0m \u001b[0mMultiPower\u001b[0m\u001b[0;34m(\u001b[0m\u001b[0mcoeff\u001b[0m\u001b[0;34m)\u001b[0m\u001b[0;34m\u001b[0m\u001b[0m\n",
      "\u001b[0;31mIndexError\u001b[0m: index 25 is out of bounds for axis 0 with size 25"
     ]
    }
   ],
   "source": [
    "print(grob.np_matrix.shape)\n",
    "print(len(grob.matrix_terms))\n",
    "\n",
    "grob.add_phi_to_matrix()\n",
    "\n",
    "print(grob.np_matrix.shape)\n",
    "print(len(grob.matrix_terms))\n",
    "\n",
    "grob.add_r_to_matrix()\n",
    "print(grob.np_matrix.shape)\n",
    "print(len(grob.matrix_terms))\n",
    "\n",
    "\n",
    "\n",
    "\n",
    "#grob.reduce_matrix()\n",
    "\n",
    "#### The problem is that the polynomials are not getting added right. \n",
    "# Go through each step of solve and see what shape np_matrix is\n",
    "# Make sure it matches up with the shape of matrix_terms\n",
    "\n",
    "### Work out what to do here in reduce_matrix with Erik"
   ]
  },
  {
   "cell_type": "code",
   "execution_count": 4,
   "metadata": {
    "collapsed": false
   },
   "outputs": [
    {
     "name": "stdout",
     "output_type": "stream",
     "text": [
      "(8, 8)\n",
      "(8, 7)\n",
      "(7, 8)\n",
      "(8, 6)\n",
      "(7, 7)\n",
      "(6, 8)\n",
      "(8, 5)\n",
      "(7, 6)\n",
      "(6, 7)\n",
      "(5, 8)\n",
      "(8, 4)\n",
      "(7, 5)\n",
      "(6, 6)\n",
      "(5, 7)\n",
      "(4, 8)\n",
      "(8, 3)\n",
      "(7, 4)\n",
      "(6, 5)\n",
      "(5, 6)\n",
      "(4, 7)\n",
      "(3, 8)\n",
      "(8, 2)\n",
      "(7, 3)\n",
      "(6, 4)\n",
      "(5, 5)\n",
      "(4, 6)\n",
      "(3, 7)\n",
      "(2, 8)\n",
      "(8, 1)\n",
      "(7, 2)\n",
      "(6, 3)\n",
      "(5, 4)\n",
      "(4, 5)\n",
      "(3, 6)\n",
      "(2, 7)\n",
      "(1, 8)\n",
      "(8, 0)\n",
      "(7, 1)\n",
      "(6, 2)\n",
      "(5, 3)\n",
      "(4, 4)\n",
      "(3, 5)\n",
      "(2, 6)\n",
      "(1, 7)\n",
      "(0, 8)\n",
      "(7, 0)\n",
      "(6, 1)\n",
      "(5, 2)\n",
      "(4, 3)\n",
      "(3, 4)\n",
      "(2, 5)\n",
      "(1, 6)\n",
      "(0, 7)\n",
      "(6, 0)\n",
      "(5, 1)\n",
      "(4, 2)\n",
      "(3, 3)\n",
      "(2, 4)\n",
      "(1, 5)\n",
      "(0, 6)\n",
      "(5, 0)\n",
      "(4, 1)\n",
      "(3, 2)\n",
      "(2, 3)\n",
      "(1, 4)\n",
      "(0, 5)\n",
      "(4, 0)\n",
      "(3, 1)\n",
      "(2, 2)\n",
      "(1, 3)\n",
      "(0, 4)\n",
      "(3, 0)\n",
      "(2, 1)\n",
      "(1, 2)\n",
      "(0, 3)\n",
      "(2, 0)\n",
      "(1, 1)\n",
      "(0, 2)\n",
      "(1, 0)\n",
      "(0, 1)\n",
      "(0, 0)\n"
     ]
    }
   ],
   "source": [
    "for i in grob.matrix_terms:\n",
    "    print(i.val)"
   ]
  },
  {
   "cell_type": "code",
   "execution_count": null,
   "metadata": {
    "collapsed": false
   },
   "outputs": [],
   "source": [
    "grob.solve()"
   ]
  },
  {
   "cell_type": "code",
   "execution_count": null,
   "metadata": {
    "collapsed": true
   },
   "outputs": [],
   "source": []
  }
 ],
 "metadata": {
  "kernelspec": {
   "display_name": "Python 3",
   "language": "python",
   "name": "python3"
  },
  "language_info": {
   "codemirror_mode": {
    "name": "ipython",
    "version": 3
   },
   "file_extension": ".py",
   "mimetype": "text/x-python",
   "name": "python",
   "nbconvert_exporter": "python",
   "pygments_lexer": "ipython3",
   "version": "3.6.0"
  }
 },
 "nbformat": 4,
 "nbformat_minor": 2
}
