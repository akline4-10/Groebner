{
 "cells": [
  {
   "cell_type": "code",
   "execution_count": 1,
   "metadata": {
    "collapsed": false
   },
   "outputs": [],
   "source": [
    "import groebner_class, multi_power, multi_cheb\n",
    "from multi_cheb import MultiCheb\n",
    "from multi_power import MultiPower\n",
    "from maxheap import Term\n",
    "import numpy as np\n",
    "from scipy.linalg import lu\n",
    "\n",
    "\n",
    "%load_ext autoreload\n",
    "%autoreload 2"
   ]
  },
  {
   "cell_type": "code",
   "execution_count": 2,
   "metadata": {
    "collapsed": false
   },
   "outputs": [],
   "source": [
    "A = MultiCheb(np.array([[1,1],[2,3]]))\n",
    "B = MultiCheb(np.array([[1,1],[3,4]]))\n",
    "C = MultiCheb(np.array([[5,2],[2,4]]))\n",
    "#D = multi_cheb.MultiCheb(np.array([[1,1,1],[2,2,2],[3,3,3]]))"
   ]
  },
  {
   "cell_type": "code",
   "execution_count": 5,
   "metadata": {
    "collapsed": false
   },
   "outputs": [
    {
     "name": "stdout",
     "output_type": "stream",
     "text": [
      "<class 'type'>\n",
      "<class 'multi_cheb.MultiCheb'>\n",
      "False\n",
      "True\n",
      "True\n",
      "<class 'type'>\n",
      "<class 'multi_cheb.MultiCheb'>\n",
      "False\n",
      "True\n",
      "True\n",
      "<class 'type'>\n",
      "<class 'multi_cheb.MultiCheb'>\n",
      "False\n",
      "True\n",
      "True\n",
      "[[ 0.  0.  0.  0.  0.  0.  0.  0.  0.]\n",
      " [ 0.  0.  0.  0.  0.  0.  1. -1. -4.]\n",
      " [ 0.  0.  0.  0. -1.  0.  0. -1. -4.]\n",
      " [ 0.  0.  0.  0. -1.  0. -1.  0.  0.]\n",
      " [ 0.  0.  0.  0.  4.  0.  3.  1.  1.]\n",
      " [ 0.  0.  0.  0.  3.  0.  2.  1.  1.]]\n",
      "<class 'type'>\n",
      "<class 'multi_cheb.MultiCheb'>\n",
      "False\n",
      "True\n",
      "True\n"
     ]
    },
    {
     "data": {
      "text/plain": [
       "array([[ 0.,  0.,  0.],\n",
       "       [-1., -1.,  0.],\n",
       "       [ 0.,  0.,  0.]])"
      ]
     },
     "execution_count": 5,
     "metadata": {},
     "output_type": "execute_result"
    }
   ],
   "source": [
    "grob = groebner.Groebner([A,B,C])\n",
    "grob.add_s_to_matrix()\n",
    "print(grob.np_matrix)\n",
    "grob.calc_s(A,B).coeff"
   ]
  },
  {
   "cell_type": "code",
   "execution_count": null,
   "metadata": {
    "collapsed": true
   },
   "outputs": [],
   "source": []
  },
  {
   "cell_type": "code",
   "execution_count": 6,
   "metadata": {
    "collapsed": false,
    "scrolled": true
   },
   "outputs": [
    {
     "name": "stdout",
     "output_type": "stream",
     "text": [
      "[(2, 2), (2, 1), (1, 2), (2, 0), (1, 1), (0, 2), (1, 0), (0, 1), (0, 0)]\n",
      "[[ 0.  0.  0.  0.  0.  0.  0.  0.  0.]\n",
      " [ 0.  0.  0.  0.  0.  0.  1. -1. -4.]\n",
      " [ 0.  0.  0.  0. -1.  0.  0. -1. -4.]\n",
      " [ 0.  0.  0.  0. -1.  0. -1.  0.  0.]\n",
      " [ 0.  0.  0.  0.  4.  0.  3.  1.  1.]\n",
      " [ 0.  0.  0.  0.  3.  0.  2.  1.  1.]]\n"
     ]
    }
   ],
   "source": [
    "print([i.val for i in grob.matrix_terms])\n",
    "print(grob.np_matrix)"
   ]
  },
  {
   "cell_type": "code",
   "execution_count": 8,
   "metadata": {
    "collapsed": false
   },
   "outputs": [
    {
     "ename": "IndexError",
     "evalue": "index 65 is out of bounds for axis 1 with size 65",
     "output_type": "error",
     "traceback": [
      "\u001b[0;31m---------------------------------------------------------------------------\u001b[0m",
      "\u001b[0;31mIndexError\u001b[0m                                Traceback (most recent call last)",
      "\u001b[0;32m<ipython-input-8-82eca2c5537a>\u001b[0m in \u001b[0;36m<module>\u001b[0;34m()\u001b[0m\n\u001b[0;32m----> 1\u001b[0;31m \u001b[0mgrob\u001b[0m\u001b[0;34m.\u001b[0m\u001b[0madd_r_to_matrix\u001b[0m\u001b[0;34m(\u001b[0m\u001b[0;34m)\u001b[0m\u001b[0;34m\u001b[0m\u001b[0m\n\u001b[0m\u001b[1;32m      2\u001b[0m \u001b[0mgrob\u001b[0m\u001b[0;34m.\u001b[0m\u001b[0mnp_matrix\u001b[0m \u001b[0;34m=\u001b[0m \u001b[0mgrob\u001b[0m\u001b[0;34m.\u001b[0m\u001b[0mnp_matrix\u001b[0m\u001b[0;34m.\u001b[0m\u001b[0mloc\u001b[0m\u001b[0;34m[\u001b[0m\u001b[0;34m:\u001b[0m\u001b[0;34m,\u001b[0m \u001b[0;34m(\u001b[0m\u001b[0mgrob\u001b[0m\u001b[0;34m.\u001b[0m\u001b[0mmatrix\u001b[0m \u001b[0;34m!=\u001b[0m \u001b[0;36m0\u001b[0m\u001b[0;34m)\u001b[0m\u001b[0;34m.\u001b[0m\u001b[0many\u001b[0m\u001b[0;34m(\u001b[0m\u001b[0maxis\u001b[0m\u001b[0;34m=\u001b[0m\u001b[0;36m0\u001b[0m\u001b[0;34m)\u001b[0m\u001b[0;34m]\u001b[0m\u001b[0;34m\u001b[0m\u001b[0m\n\u001b[1;32m      3\u001b[0m \u001b[0mprint\u001b[0m\u001b[0;34m(\u001b[0m\u001b[0mgrob\u001b[0m\u001b[0;34m.\u001b[0m\u001b[0mmatrix\u001b[0m\u001b[0;34m)\u001b[0m\u001b[0;34m\u001b[0m\u001b[0m\n\u001b[1;32m      4\u001b[0m \u001b[0;34m\u001b[0m\u001b[0m\n\u001b[1;32m      5\u001b[0m \u001b[0;31m# Reorder correctly\u001b[0m\u001b[0;34m\u001b[0m\u001b[0;34m\u001b[0m\u001b[0m\n",
      "\u001b[0;32m/Users/zacharytaylor/Documents/Work/Groebner_Bases_Rsch/Groebner_Code/groebner/groebner.py\u001b[0m in \u001b[0;36madd_r_to_matrix\u001b[0;34m(self)\u001b[0m\n\u001b[1;32m    212\u001b[0m                         \u001b[0mc\u001b[0m \u001b[0;34m=\u001b[0m \u001b[0mMultiPower\u001b[0m\u001b[0;34m(\u001b[0m\u001b[0mc_coeff\u001b[0m\u001b[0;34m)\u001b[0m\u001b[0;34m\u001b[0m\u001b[0m\n\u001b[1;32m    213\u001b[0m                     \u001b[0mr\u001b[0m \u001b[0;34m=\u001b[0m \u001b[0mc\u001b[0m\u001b[0;34m*\u001b[0m\u001b[0mp\u001b[0m\u001b[0;34m\u001b[0m\u001b[0m\n\u001b[0;32m--> 214\u001b[0;31m                     \u001b[0mself\u001b[0m\u001b[0;34m.\u001b[0m\u001b[0m_add_poly_to_matrix\u001b[0m\u001b[0;34m(\u001b[0m\u001b[0mr\u001b[0m\u001b[0;34m)\u001b[0m\u001b[0;34m\u001b[0m\u001b[0m\n\u001b[0m\u001b[1;32m    215\u001b[0m                 \u001b[0;32melse\u001b[0m\u001b[0;34m:\u001b[0m\u001b[0;34m\u001b[0m\u001b[0m\n\u001b[1;32m    216\u001b[0m                     \u001b[0;31m#print('Bad i,j or length')\u001b[0m\u001b[0;34m\u001b[0m\u001b[0;34m\u001b[0m\u001b[0m\n",
      "\u001b[0;32m/Users/zacharytaylor/Documents/Work/Groebner_Bases_Rsch/Groebner_Code/groebner/groebner.py\u001b[0m in \u001b[0;36m_add_poly_to_matrix\u001b[0;34m(self, p)\u001b[0m\n\u001b[1;32m     65\u001b[0m                 \u001b[0;31m# get index of label and np matrix to put into\u001b[0m\u001b[0;34m\u001b[0m\u001b[0;34m\u001b[0m\u001b[0m\n\u001b[1;32m     66\u001b[0m                 \u001b[0midx_where\u001b[0m \u001b[0;34m=\u001b[0m \u001b[0mnp\u001b[0m\u001b[0;34m.\u001b[0m\u001b[0margmax\u001b[0m\u001b[0;34m(\u001b[0m\u001b[0;34m[\u001b[0m\u001b[0mi\u001b[0m \u001b[0;34m==\u001b[0m \u001b[0midx_term\u001b[0m \u001b[0;32mfor\u001b[0m \u001b[0mi\u001b[0m \u001b[0;32min\u001b[0m \u001b[0mself\u001b[0m\u001b[0;34m.\u001b[0m\u001b[0mmatrix_terms\u001b[0m\u001b[0;34m]\u001b[0m\u001b[0;34m)\u001b[0m\u001b[0;34m\u001b[0m\u001b[0m\n\u001b[0;32m---> 67\u001b[0;31m                 \u001b[0mself\u001b[0m\u001b[0;34m.\u001b[0m\u001b[0mnp_matrix\u001b[0m\u001b[0;34m[\u001b[0m\u001b[0;36m0\u001b[0m\u001b[0;34m,\u001b[0m\u001b[0midx_where\u001b[0m\u001b[0;34m]\u001b[0m \u001b[0;34m=\u001b[0m \u001b[0mcoeff_val\u001b[0m\u001b[0;34m\u001b[0m\u001b[0m\n\u001b[0m\u001b[1;32m     68\u001b[0m \u001b[0;34m\u001b[0m\u001b[0m\n\u001b[1;32m     69\u001b[0m             \u001b[0;31m# If new column needed\u001b[0m\u001b[0;34m\u001b[0m\u001b[0;34m\u001b[0m\u001b[0m\n",
      "\u001b[0;31mIndexError\u001b[0m: index 65 is out of bounds for axis 1 with size 65"
     ]
    }
   ],
   "source": [
    "grob.add_r_to_matrix()\n",
    "grob.np_matrix = grob.np_matrix.loc[:, (grob.matrix != 0).any(axis=0)]\n",
    "print(grob.matrix)\n",
    "\n",
    "# Reorder correctly\n",
    "ord_mat = grob.np_matrix[['[2 2]', '[2 1]', '[1 2]', '[2 0]', '[1 1]', '[0 2]','[1 0]', '[0 1]', '[0 0]']]\n",
    "grob_mat = ord_mat.values\n",
    "\n",
    "new_mat_index = ord_mat.columns.values\n",
    "\n",
    "new_mat = np.vstack((grob_mat[3:], grob_mat[:3])) # Put R on top for reduction\n",
    "\n",
    "P,L,U = lu(new_mat)\n",
    "P_argmax = np.argmax(P,axis=0)\n",
    "\n",
    "print(U[-6:])"
   ]
  },
  {
   "cell_type": "code",
   "execution_count": 9,
   "metadata": {
    "collapsed": false
   },
   "outputs": [
    {
     "data": {
      "text/plain": [
       "True"
      ]
     },
     "execution_count": 9,
     "metadata": {},
     "output_type": "execute_result"
    }
   ],
   "source": [
    "import numpy as np\n",
    "T = np.random.rand( 4, 3, 5, 2 )\n",
    "np.allclose( T.flatten( )[ ::-1 ].reshape( T.shape ) , T[ ::-1, ::-1, ::-1, ::-1 ] )"
   ]
  },
  {
   "cell_type": "code",
   "execution_count": 2,
   "metadata": {
    "collapsed": false
   },
   "outputs": [],
   "source": [
    "f1 = MultiPower(np.array([[0,-1.5,.5,],[-1.5,1.5,0],[1,0,0,]]))\n",
    "f2 = MultiPower(np.array([[0,0,0],[-1,0,1],[0,0,0]]))\n",
    "f3 = MultiPower(np.array([[0,-1,0,1],[0,0,0,0],[0,0,0,0],[0,0,0,0]]))"
   ]
  },
  {
   "cell_type": "code",
   "execution_count": 3,
   "metadata": {
    "collapsed": false
   },
   "outputs": [
    {
     "name": "stdout",
     "output_type": "stream",
     "text": [
      "[[ 0.  -1.5  0.5]\n",
      " [-1.5  1.5  0. ]\n",
      " [ 1.   0.   0. ]]\n",
      "[[ 0  0  0]\n",
      " [-1  0  1]\n",
      " [ 0  0  0]]\n",
      "[[ 0 -1  0  1]\n",
      " [ 0  0  0  0]\n",
      " [ 0  0  0  0]\n",
      " [ 0  0  0  0]]\n"
     ]
    }
   ],
   "source": [
    "print(f1.coeff)\n",
    "print(f2.coeff)\n",
    "print(f3.coeff)"
   ]
  },
  {
   "cell_type": "code",
   "execution_count": 4,
   "metadata": {
    "collapsed": false
   },
   "outputs": [],
   "source": [
    "poly_list = [f1, f2, f3]"
   ]
  },
  {
   "cell_type": "code",
   "execution_count": 37,
   "metadata": {
    "collapsed": false
   },
   "outputs": [],
   "source": [
    "from vector_space import VectorSpace\n",
    "vs = VectorSpace()"
   ]
  },
  {
   "cell_type": "code",
   "execution_count": 38,
   "metadata": {
    "collapsed": false
   },
   "outputs": [
    {
     "name": "stdout",
     "output_type": "stream",
     "text": [
      "<itertools.product object at 0x103fd7e10>\n"
     ]
    }
   ],
   "source": [
    "print(vs.makeBasis(poly_list))"
   ]
  },
  {
   "cell_type": "code",
   "execution_count": 39,
   "metadata": {
    "collapsed": false
   },
   "outputs": [],
   "source": [
    "from itertools import product"
   ]
  },
  {
   "cell_type": "code",
   "execution_count": 47,
   "metadata": {
    "collapsed": false
   },
   "outputs": [
    {
     "name": "stdout",
     "output_type": "stream",
     "text": [
      "(2.0, 2.0)\n",
      "(2.0, 1.0)\n",
      "(1.0, 2.0)\n",
      "(2.0, 0.0)\n",
      "(1.0, 1.0)\n",
      "(0.0, 2.0)\n",
      "(1.0, 0.0)\n",
      "(0.0, 1.0)\n",
      "(0.0, 0.0)\n"
     ]
    }
   ],
   "source": [
    "l = [tuple(j) for j in f1.degrevlex_gen()]\n",
    "for i in l: print(i)"
   ]
  },
  {
   "cell_type": "code",
   "execution_count": null,
   "metadata": {
    "collapsed": false
   },
   "outputs": [],
   "source": []
  },
  {
   "cell_type": "code",
   "execution_count": null,
   "metadata": {
    "collapsed": true
   },
   "outputs": [],
   "source": []
  }
 ],
 "metadata": {
  "anaconda-cloud": {},
  "kernelspec": {
   "display_name": "Python [Root]",
   "language": "python",
   "name": "Python [Root]"
  },
  "language_info": {
   "codemirror_mode": {
    "name": "ipython",
    "version": 3
   },
   "file_extension": ".py",
   "mimetype": "text/x-python",
   "name": "python",
   "nbconvert_exporter": "python",
   "pygments_lexer": "ipython3",
   "version": "3.5.2"
  }
 },
 "nbformat": 4,
 "nbformat_minor": 2
}
