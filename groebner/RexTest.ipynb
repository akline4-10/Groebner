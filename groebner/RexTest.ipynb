{
 "cells": [
  {
   "cell_type": "code",
   "execution_count": 108,
   "metadata": {
    "collapsed": false
   },
   "outputs": [
    {
     "name": "stdout",
     "output_type": "stream",
     "text": [
      "The autoreload extension is already loaded. To reload it, use:\n",
      "  %reload_ext autoreload\n"
     ]
    }
   ],
   "source": [
    "import groebner, multi_power, multi_cheb\n",
    "from multi_cheb import MultiCheb\n",
    "from maxheap import Term\n",
    "import numpy as np\n",
    "from scipy.linalg import lu\n",
    "\n",
    "\n",
    "%load_ext autoreload\n",
    "%autoreload 2"
   ]
  },
  {
   "cell_type": "code",
   "execution_count": 109,
   "metadata": {
    "collapsed": false
   },
   "outputs": [],
   "source": [
    "A = MultiCheb(np.array([[0,1],[2,3]]))\n",
    "B = MultiCheb(np.array([[2,1],[3,4]]))\n",
    "C = MultiCheb(np.array([[0,2],[2,4]]))\n",
    "D = multi_cheb.MultiCheb(np.array([[1,1,1],[2,2,2],[3,3,3]]))"
   ]
  },
  {
   "cell_type": "code",
   "execution_count": 110,
   "metadata": {
    "collapsed": false
   },
   "outputs": [
    {
     "name": "stdout",
     "output_type": "stream",
     "text": [
      "[(2, 2), (2, 1), (1, 2), (2, 0), (1, 1), (0, 2), (1, 0), (0, 1), (0, 0)]\n",
      "[[ 3.  3.  2.  3.  2.  1.  2.  1.  1.]\n",
      " [ 0.  0.  0.  0.  4.  0.  2.  2.  0.]\n",
      " [ 0.  0.  0.  0.  4.  0.  3.  1.  2.]\n",
      " [ 0.  0.  0.  0.  3.  0.  2.  1.  0.]]\n"
     ]
    }
   ],
   "source": [
    "grob = groebner.Groebner([A,B,C,D])\n",
    "print([i.val for i in grob.matrix_terms])\n",
    "print(grob.np_matrix)"
   ]
  },
  {
   "cell_type": "code",
   "execution_count": 111,
   "metadata": {
    "collapsed": false,
    "scrolled": true
   },
   "outputs": [
    {
     "ename": "ValueError",
     "evalue": "operands could not be broadcast together with shapes (3,3) (5,5) ",
     "output_type": "error",
     "traceback": [
      "\u001b[0;31m---------------------------------------------------------------------------\u001b[0m",
      "\u001b[0;31mValueError\u001b[0m                                Traceback (most recent call last)",
      "\u001b[0;32m<ipython-input-111-55930709955b>\u001b[0m in \u001b[0;36m<module>\u001b[0;34m()\u001b[0m\n\u001b[0;32m----> 1\u001b[0;31m \u001b[0mgrob\u001b[0m\u001b[0;34m.\u001b[0m\u001b[0madd_s_to_matrix\u001b[0m\u001b[0;34m(\u001b[0m\u001b[0;34m)\u001b[0m\u001b[0;34m\u001b[0m\u001b[0m\n\u001b[0m",
      "\u001b[0;32m/Users/rex/Work/groebner/groebner/groebner.py\u001b[0m in \u001b[0;36madd_s_to_matrix\u001b[0;34m(self)\u001b[0m\n\u001b[1;32m    179\u001b[0m             \u001b[0msubmatrix\u001b[0m \u001b[0;34m=\u001b[0m \u001b[0mpd\u001b[0m\u001b[0;34m.\u001b[0m\u001b[0mDataFrame\u001b[0m\u001b[0;34m(\u001b[0m\u001b[0;34m)\u001b[0m\u001b[0;34m\u001b[0m\u001b[0m\n\u001b[1;32m    180\u001b[0m             \u001b[0;31m#if not self._coprime(a.lead_coeff,b.lead_coeff): #Checks for co-prime coeffs\u001b[0m\u001b[0;34m\u001b[0m\u001b[0;34m\u001b[0m\u001b[0m\n\u001b[0;32m--> 181\u001b[0;31m             \u001b[0ms\u001b[0m \u001b[0;34m=\u001b[0m \u001b[0mself\u001b[0m\u001b[0;34m.\u001b[0m\u001b[0mcalc_s\u001b[0m\u001b[0;34m(\u001b[0m\u001b[0ma\u001b[0m\u001b[0;34m,\u001b[0m\u001b[0mb\u001b[0m\u001b[0;34m)\u001b[0m \u001b[0;31m# Calculate the S polynomail\u001b[0m\u001b[0;34m\u001b[0m\u001b[0m\n\u001b[0m\u001b[1;32m    182\u001b[0m \u001b[0;34m\u001b[0m\u001b[0m\n\u001b[1;32m    183\u001b[0m             \u001b[0;32mfor\u001b[0m \u001b[0midx\u001b[0m \u001b[0;32min\u001b[0m \u001b[0ms\u001b[0m\u001b[0;34m.\u001b[0m\u001b[0mgrevlex_gen\u001b[0m\u001b[0;34m(\u001b[0m\u001b[0;34m)\u001b[0m\u001b[0;34m:\u001b[0m\u001b[0;34m\u001b[0m\u001b[0m\n",
      "\u001b[0;32m/Users/rex/Work/groebner/groebner/groebner.py\u001b[0m in \u001b[0;36mcalc_s\u001b[0;34m(self, a, b)\u001b[0m\n\u001b[1;32m    163\u001b[0m         \u001b[0;32melse\u001b[0m\u001b[0;34m:\u001b[0m\u001b[0;34m\u001b[0m\u001b[0m\n\u001b[1;32m    164\u001b[0m             \u001b[0;32mraise\u001b[0m \u001b[0mValueError\u001b[0m\u001b[0;34m(\u001b[0m\u001b[0;34m'Incompatiable polynomials'\u001b[0m\u001b[0;34m)\u001b[0m\u001b[0;34m\u001b[0m\u001b[0m\n\u001b[0;32m--> 165\u001b[0;31m         \u001b[0ms\u001b[0m \u001b[0;34m=\u001b[0m \u001b[0ma_\u001b[0m \u001b[0;34m*\u001b[0m \u001b[0ma\u001b[0m \u001b[0;34m-\u001b[0m \u001b[0mb_\u001b[0m \u001b[0;34m*\u001b[0m \u001b[0mb\u001b[0m\u001b[0;34m\u001b[0m\u001b[0m\n\u001b[0m\u001b[1;32m    166\u001b[0m         \u001b[0;32mreturn\u001b[0m \u001b[0ms\u001b[0m\u001b[0;34m\u001b[0m\u001b[0m\n\u001b[1;32m    167\u001b[0m \u001b[0;34m\u001b[0m\u001b[0m\n",
      "\u001b[0;32m/Users/rex/Work/groebner/groebner/multi_cheb.pyc\u001b[0m in \u001b[0;36m__sub__\u001b[0;34m(self, other)\u001b[0m\n\u001b[1;32m    193\u001b[0m         \u001b[0mHere\u001b[0m \u001b[0mwe\u001b[0m \u001b[0msubtract\u001b[0m \u001b[0mthe\u001b[0m \u001b[0mtwo\u001b[0m \u001b[0mpolys\u001b[0m \u001b[0mcoeffs\u001b[0m\u001b[0;34m\u001b[0m\u001b[0m\n\u001b[1;32m    194\u001b[0m         '''\n\u001b[0;32m--> 195\u001b[0;31m         \u001b[0;32mreturn\u001b[0m \u001b[0mMultiCheb\u001b[0m\u001b[0;34m(\u001b[0m\u001b[0mself\u001b[0m\u001b[0;34m.\u001b[0m\u001b[0mcoeff\u001b[0m \u001b[0;34m-\u001b[0m \u001b[0mother\u001b[0m\u001b[0;34m.\u001b[0m\u001b[0mcoeff\u001b[0m\u001b[0;34m)\u001b[0m\u001b[0;34m\u001b[0m\u001b[0m\n\u001b[0m\u001b[1;32m    196\u001b[0m \u001b[0;34m\u001b[0m\u001b[0m\n\u001b[1;32m    197\u001b[0m \u001b[0;34m\u001b[0m\u001b[0m\n",
      "\u001b[0;31mValueError\u001b[0m: operands could not be broadcast together with shapes (3,3) (5,5) "
     ]
    }
   ],
   "source": [
    "grob.add_s_to_matrix()\n"
   ]
  },
  {
   "cell_type": "code",
   "execution_count": 15,
   "metadata": {
    "collapsed": false
   },
   "outputs": [
    {
     "name": "stdout",
     "output_type": "stream",
     "text": [
      "[[ 0.    0.    0.    0.    0.    0.    1.   -1.   -4.  ]\n",
      " [ 0.    0.    0.    0.    4.    0.    3.    1.    1.  ]\n",
      " [ 0.    0.    0.    0.    0.    0.   -0.25  0.25  0.25]\n",
      " [ 0.    0.    0.    0.    0.    0.   -1.    1.    4.  ]\n",
      " [ 0.    0.    0.    0.    0.    0.    0.    0.    0.  ]\n",
      " [ 0.    0.    0.    0.    0.    0.    0.    0.   -0.75]]\n"
     ]
    }
   ],
   "source": [
    "grob.add_r_to_matrix()\n",
    "grob.matrix = grob.matrix.loc[:, (grob.matrix != 0).any(axis=0)]\n",
    "print(grob.matrix)\n",
    "\n",
    "# Reorder correctly\n",
    "ord_mat = grob.matrix[['[2 2]', '[2 1]', '[1 2]', '[2 0]', '[1 1]', '[0 2]','[1 0]', '[0 1]', '[0 0]']]\n",
    "grob_mat = ord_mat.values\n",
    "\n",
    "new_mat_index = ord_mat.columns.values\n",
    "\n",
    "new_mat = np.vstack((grob_mat[3:], grob_mat[:3])) # Put R on top for reduction\n",
    "\n",
    "P,L,U = lu(new_mat)\n",
    "P_argmax = np.argmax(P,axis=0)\n",
    "\n",
    "print(U[-6:])"
   ]
  },
  {
   "cell_type": "code",
   "execution_count": 25,
   "metadata": {
    "collapsed": false
   },
   "outputs": [
    {
     "name": "stdout",
     "output_type": "stream",
     "text": [
      "[[ 0.  1.  0.]\n",
      " [ 0.  0.  0.]\n",
      " [ 0.  0.  0.]]\n",
      "[[1 2 3]\n",
      " [4 5 6]\n",
      " [7 8 9]]\n"
     ]
    }
   ],
   "source": [
    "a = np.zeros((3,3))\n",
    "a[0,1] = 1\n",
    "print(a)\n",
    "a = MultiCheb(a)\n",
    "b = MultiCheb(np.arange(1,10).reshape(3,3))\n",
    "print(b.coeff)"
   ]
  },
  {
   "cell_type": "code",
   "execution_count": 16,
   "metadata": {
    "collapsed": false
   },
   "outputs": [
    {
     "name": "stdout",
     "output_type": "stream",
     "text": [
      "[[  0.5   1.    0.5   1.    0. ]\n",
      " [  2.    5.5   2.    2.5   0. ]\n",
      " [  3.5  10.    3.5   4.    0. ]\n",
      " [  0.    0.    0.    0.    0. ]\n",
      " [  0.    0.    0.    0.    0. ]]\n"
     ]
    }
   ],
   "source": [
    "c = a*b\n",
    "print(c.coeff)"
   ]
  },
  {
   "cell_type": "code",
   "execution_count": 24,
   "metadata": {
    "collapsed": false
   },
   "outputs": [
    {
     "name": "stdout",
     "output_type": "stream",
     "text": [
      "[[0 1 2 3 0]\n",
      " [0 4 5 6 0]\n",
      " [0 7 8 9 0]\n",
      " [0 0 0 0 0]\n",
      " [0 0 0 0 0]]\n"
     ]
    }
   ],
   "source": [
    "d = np.array([[0,1,2,3,0],[0,4,5,6,0],[0,7,8,9,0],[0,0,0,0,0],[0,0,0,0,0]])\n",
    "e = MultiCheb(2*c.coeff  - d)\n",
    "print(d)"
   ]
  },
  {
   "cell_type": "code",
   "execution_count": 21,
   "metadata": {
    "collapsed": false
   },
   "outputs": [
    {
     "name": "stdout",
     "output_type": "stream",
     "text": [
      "[[1 2 3]\n",
      " [4 5 6]\n",
      " [7 8 9]]\n",
      "[[  1.   1.  -1.  -1.   0.]\n",
      " [  4.   7.  -1.  -1.   0.]\n",
      " [  7.  13.  -1.  -1.   0.]\n",
      " [  0.   0.   0.   0.   0.]\n",
      " [  0.   0.   0.   0.   0.]]\n"
     ]
    }
   ],
   "source": [
    "print(b.coeff)\n",
    "print(e.coeff)"
   ]
  },
  {
   "cell_type": "code",
   "execution_count": 10,
   "metadata": {
    "collapsed": false
   },
   "outputs": [
    {
     "name": "stdout",
     "output_type": "stream",
     "text": [
      "[[ 2.   1.5  0. ]\n",
      " [ 0.   0.   0. ]\n",
      " [ 0.   1.5  2. ]]\n",
      "[[0 0]\n",
      " [3 4]]\n",
      "[[ 4.  3.  0.]\n",
      " [ 0.  0.  0.]\n",
      " [ 0.  0.  0.]]\n"
     ]
    }
   ],
   "source": [
    "a = MultiCheb(np.array([[0,0],[0,1]]))\n",
    "b = MultiCheb(np.array([[0,0],[3,4]]))\n",
    "\n",
    "c = a*b\n",
    "print(c.coeff)\n",
    "d = np.array([[0,0,0],[0,0,0],[0,3,4]])\n",
    "e = MultiCheb(2*c.coeff  - d)\n",
    "\n",
    "print(b.coeff)\n",
    "print(e.coeff)"
   ]
  },
  {
   "cell_type": "code",
   "execution_count": 62,
   "metadata": {
    "collapsed": false
   },
   "outputs": [],
   "source": [
    "a = np.array([[ 0.,  0.,  0.,  0.]])\n",
    "b = np.array([[ 0.,  0.,  0.,  0.],\n",
    " [ 4.,  2.,  2.,  0.],\n",
    " [ 4.,  3.,  1.,  2.],\n",
    " [ 3.,  2.,  1.,  0.]])"
   ]
  },
  {
   "cell_type": "code",
   "execution_count": 69,
   "metadata": {
    "collapsed": false
   },
   "outputs": [
    {
     "name": "stdout",
     "output_type": "stream",
     "text": [
      "(1, 4)\n",
      "(4, 4)\n",
      "[[ 0.  0.  0.  0.  0.]\n",
      " [ 4.  2.  2.  0.  0.]\n",
      " [ 4.  3.  1.  2.  0.]\n",
      " [ 3.  2.  1.  0.  0.]]\n"
     ]
    }
   ],
   "source": [
    "print(a.shape)\n",
    "print(b.shape)\n",
    "c = np.hstack((b,a.T))\n",
    "print(c)"
   ]
  },
  {
   "cell_type": "code",
   "execution_count": null,
   "metadata": {
    "collapsed": true
   },
   "outputs": [],
   "source": []
  }
 ],
 "metadata": {
  "kernelspec": {
   "display_name": "Python [default]",
   "language": "python",
   "name": "python2"
  },
  "language_info": {
   "codemirror_mode": {
    "name": "ipython",
    "version": 2
   },
   "file_extension": ".py",
   "mimetype": "text/x-python",
   "name": "python",
   "nbconvert_exporter": "python",
   "pygments_lexer": "ipython2",
   "version": "2.7.13"
  }
 },
 "nbformat": 4,
 "nbformat_minor": 2
}
