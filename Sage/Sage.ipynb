{
 "cells": [
  {
   "cell_type": "markdown",
   "metadata": {},
   "source": [
    "#### To caclulate a Gröbner Basis"
   ]
  },
  {
   "cell_type": "code",
   "execution_count": 2,
   "metadata": {
    "collapsed": false
   },
   "outputs": [
    {
     "name": "stdout",
     "output_type": "stream",
     "text": [
      "[y^2 + 1, x - 1/2*y]\n",
      "[y^2 + 1/4, x - 2*y]\n",
      "[y^2 + 2*z^2, x*z + 1]\n"
     ]
    },
    {
     "data": {
      "text/plain": [
       "[0, 5, 0]"
      ]
     },
     "execution_count": 2,
     "metadata": {},
     "output_type": "execute_result"
    }
   ],
   "source": [
    "x,y,z = QQ[\"x,y,z\"].gens()\n",
    "f1, f2 = y-2*x, 1+2*x*y\n",
    "I = ideal(f1,f2)\n",
    "B = I.groebner_basis()\n",
    "print(B)\n",
    "\n",
    "\n",
    "I2 = ideal(x - 2*y, 1+2*x*y)\n",
    "B2 = I2.groebner_basis()\n",
    "print(B2)\n",
    "\n",
    "\n",
    "I3 = ideal(1+x*z, 2+y**2*x**2)\n",
    "B3 = I3.groebner_basis()\n",
    "print(B3)\n",
    "\n",
    "\n",
    "[0,-1,0]\n",
    "[0,0,3]\n",
    "[0,0,0]\n",
    "\n",
    "[-1,0,0]\n",
    "[0,0,0]\n",
    "[0,5,0]\n",
    "\n"
   ]
  },
  {
   "cell_type": "markdown",
   "metadata": {},
   "source": [
    "#### To use verbose Buchberger's"
   ]
  },
  {
   "cell_type": "code",
   "execution_count": 12,
   "metadata": {
    "collapsed": false
   },
   "outputs": [
    {
     "name": "stdout",
     "output_type": "stream",
     "text": [
      "[x + 1, y + 1]\n",
      "(x + 1, y + 1) => 0\n",
      "G: set([x + 1, y + 1])\n",
      "\n",
      "(y + 1, x + 1) => 0\n",
      "G: set([x + 1, y + 1])\n",
      "\n",
      "2 reductions to zero.\n"
     ]
    },
    {
     "data": {
      "text/plain": [
       "[x + 1, y + 1]"
      ]
     },
     "execution_count": 12,
     "metadata": {},
     "output_type": "execute_result"
    }
   ],
   "source": [
    "from sage.rings.polynomial.toy_buchberger import *\n",
    "\n",
    "I3 = ideal(1+x, 1+y)\n",
    "B3 = I3.groebner_basis()\n",
    "print(B3)\n",
    "\n",
    "\n",
    "set_verbose(1)\n",
    "buchberger(I3)\n",
    "\n"
   ]
  },
  {
   "cell_type": "code",
   "execution_count": 11,
   "metadata": {
    "collapsed": false
   },
   "outputs": [
    {
     "name": "stdout",
     "output_type": "stream",
     "text": [
      "(x + 1, y + 1) => 0\n",
      "G: set([x + 1, y + 1, x^2*y + x + 1])\n",
      "\n",
      "(y + 1, x + 1) => 0\n",
      "G: set([x + 1, y + 1, x^2*y + x + 1])\n",
      "\n",
      "(y + 1, x^2*y + x + 1) => 1\n",
      "G: set([x + 1, y + 1, x^2*y + x + 1, 1])\n",
      "\n",
      "(y + 1, 1) => 0\n",
      "G: set([x + 1, y + 1, x^2*y + x + 1, 1])\n",
      "\n",
      "(x + 1, 1) => 0\n",
      "G: set([x + 1, y + 1, x^2*y + x + 1, 1])\n",
      "\n",
      "(x + 1, x^2*y + x + 1) => 0\n",
      "G: set([x + 1, y + 1, x^2*y + x + 1, 1])\n",
      "\n",
      "(x^2*y + x + 1, x + 1) => 0\n",
      "G: set([x + 1, y + 1, x^2*y + x + 1, 1])\n",
      "\n",
      "(x^2*y + x + 1, y + 1) => 0\n",
      "G: set([x + 1, y + 1, x^2*y + x + 1, 1])\n",
      "\n",
      "(x^2*y + x + 1, 1) => 0\n",
      "G: set([x + 1, y + 1, x^2*y + x + 1, 1])\n",
      "\n",
      "8 reductions to zero.\n"
     ]
    },
    {
     "data": {
      "text/plain": [
       "[x + 1, y + 1, x^2*y + x + 1, 1]"
      ]
     },
     "execution_count": 11,
     "metadata": {},
     "output_type": "execute_result"
    }
   ],
   "source": [
    "f1 = 1 + x\n",
    "f2 = 1+ y\n",
    "f3 = 1+x**2*y+x\n",
    "I = ideal(f1,f2,f3)\n",
    "buchberger(I)\n"
   ]
  },
  {
   "cell_type": "code",
   "execution_count": null,
   "metadata": {
    "collapsed": false
   },
   "outputs": [],
   "source": []
  },
  {
   "cell_type": "code",
   "execution_count": null,
   "metadata": {
    "collapsed": true
   },
   "outputs": [],
   "source": []
  }
 ],
 "metadata": {
  "kernelspec": {
   "display_name": "SageMath 7.4",
   "language": "",
   "name": "sagemath"
  },
  "language_info": {
   "codemirror_mode": {
    "name": "ipython",
    "version": 2
   },
   "file_extension": ".py",
   "mimetype": "text/x-python",
   "name": "python",
   "nbconvert_exporter": "python",
   "pygments_lexer": "ipython2",
   "version": "2.7.10"
  }
 },
 "nbformat": 4,
 "nbformat_minor": 0
}
